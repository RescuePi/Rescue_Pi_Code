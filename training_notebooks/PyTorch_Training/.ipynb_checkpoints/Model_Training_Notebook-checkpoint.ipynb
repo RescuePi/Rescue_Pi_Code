{
 "cells": [
  {
   "cell_type": "markdown",
   "id": "meaningful-slovakia",
   "metadata": {},
   "source": [
    "## Set up Environment"
   ]
  },
  {
   "cell_type": "code",
   "execution_count": null,
   "id": "activated-finder",
   "metadata": {},
   "outputs": [],
   "source": [
    "# Install the necessary packages\n",
    "!pip3 install numpy\n",
    "!pip3 install tensorflow\n",
    "!pip3 install keras\n",
    "!pip3 install scikit-learn\n",
    "!pip3 install imutils\n",
    "!pip3 install matplotlib"
   ]
  },
  {
   "cell_type": "code",
   "execution_count": 99,
   "id": "naval-luther",
   "metadata": {},
   "outputs": [],
   "source": [
    "# Import the necessary packages needed for model training\n",
    "from tensorflow.keras.preprocessing.image import ImageDataGenerator\n",
    "from tensorflow.keras.applications import ResNet50\n",
    "from tensorflow.keras.layers import AveragePooling2D\n",
    "from tensorflow.keras.layers import Dropout\n",
    "from tensorflow.keras.layers import Flatten\n",
    "from tensorflow.keras.layers import Dense\n",
    "from tensorflow.keras.layers import Input\n",
    "from tensorflow.keras.models import Model\n",
    "from tensorflow.keras.optimizers import Adam\n",
    "from tensorflow.keras.applications.mobilenet_v2 import preprocess_input\n",
    "from tensorflow.keras.preprocessing.image import img_to_array\n",
    "from tensorflow.keras.preprocessing.image import load_img\n",
    "from tensorflow.keras.utils import to_categorical\n",
    "from sklearn.preprocessing import LabelBinarizer\n",
    "from sklearn.model_selection import train_test_split\n",
    "from sklearn.metrics import classification_report\n",
    "from imutils import paths\n",
    "import matplotlib.pyplot as plt\n",
    "import numpy as np\n",
    "import os"
   ]
  },
  {
   "cell_type": "markdown",
   "id": "horizontal-delivery",
   "metadata": {},
   "source": [
    "## Load the Dataset"
   ]
  },
  {
   "cell_type": "code",
   "execution_count": 65,
   "id": "rural-boulder",
   "metadata": {},
   "outputs": [],
   "source": [
    "# Set all constants\n",
    "crying_dataset_path = '/home/srinivassriram/Desktop/Rescue_Pi_Code/Rescue_Pi_Code/Dataset2/Crying/'\n",
    "crying_image_paths = list(paths.list_images(crying_dataset_path))\n",
    "fighting_dataset_path = '/home/srinivassriram/Desktop/Rescue_Pi_Code/Rescue_Pi_Code/Dataset2/Fighting/'\n",
    "fighting_image_paths = list(paths.list_images(fighting_dataset_path))\n",
    "normal_dataset_path = '/home/srinivassriram/Desktop/Rescue_Pi_Code/Rescue_Pi_Code/Dataset2/Crying/'\n",
    "normal_image_paths = list(paths.list_images(normal_dataset_path))\n",
    "data_list = np.array([])\n",
    "labels_list = np.array([])"
   ]
  },
  {
   "cell_type": "code",
   "execution_count": 66,
   "id": "optional-olympus",
   "metadata": {},
   "outputs": [],
   "source": [
    "# loop over the image paths for crying\n",
    "for image_path in crying_image_paths:\n",
    "    label = 'Crying'\n",
    "    \n",
    "    image = load_img(image_path, target_size=(224, 224))\n",
    "    image = img_to_array(image)\n",
    "    image = preprocess_input(image)\n",
    "    \n",
    "    np.append(data_list, image)\n",
    "    np.append(labels_list, label)"
   ]
  },
  {
   "cell_type": "code",
   "execution_count": 67,
   "id": "differential-english",
   "metadata": {},
   "outputs": [],
   "source": [
    "# loop over the image paths for fighting\n",
    "for image_path in fighting_image_paths:\n",
    "    label = 'Fighting'\n",
    "    \n",
    "    image = load_img(image_path, target_size=(224, 224))\n",
    "    image = img_to_array(image)\n",
    "    image = preprocess_input(image)\n",
    "    \n",
    "    np.append(data_list, image)\n",
    "    np.append(labels_list, label)"
   ]
  },
  {
   "cell_type": "code",
   "execution_count": 68,
   "id": "quality-sewing",
   "metadata": {},
   "outputs": [],
   "source": [
    "# loop over the image paths for normal behavior\n",
    "for image_path in normal_image_paths:\n",
    "    label = 'Normal'\n",
    "    \n",
    "    image = load_img(image_path, target_size=(224, 224))\n",
    "    image = img_to_array(image)\n",
    "    image = preprocess_input(image)\n",
    "    \n",
    "    np.append(data_list, image)\n",
    "    np.append(labels_list, label)"
   ]
  },
  {
   "cell_type": "code",
   "execution_count": 69,
   "id": "stuck-windows",
   "metadata": {},
   "outputs": [
    {
     "name": "stdout",
     "output_type": "stream",
     "text": [
      "<class 'numpy.ndarray'>\n",
      "<class 'numpy.ndarray'>\n"
     ]
    }
   ],
   "source": [
    "print(type(data_list))\n",
    "print(type(labels_list))"
   ]
  },
  {
   "cell_type": "code",
   "execution_count": 70,
   "id": "healthy-savannah",
   "metadata": {},
   "outputs": [],
   "source": [
    "# Encode the labels\n",
    "lb = LabelBinarizer()\n",
    "labels_array = lb.fit_transform(labels_array)"
   ]
  },
  {
   "cell_type": "code",
   "execution_count": 71,
   "id": "executed-kansas",
   "metadata": {},
   "outputs": [],
   "source": [
    "# Split the dataset into training and testing datasets\n",
    "(trainX, testX, trainY, testY) = train_test_split(data_array, labels_array, test_size=0.20, stratify=labels_array, random_state=42)"
   ]
  },
  {
   "cell_type": "code",
   "execution_count": 72,
   "id": "italic-pasta",
   "metadata": {},
   "outputs": [],
   "source": [
    "# Construct the image data generator that is needed for data augmentation\n",
    "aug = ImageDataGenerator(\n",
    "    rotation_range=20,\n",
    "    zoom_range=0.15,\n",
    "    width_shift_range=0.2,\n",
    "    height_shift_range=0.2,\n",
    "    shear_range=0.15,\n",
    "    horizontal_flip=True,\n",
    "    brightness_range=[0.2,2.0],\n",
    "    fill_mode=\"nearest\")"
   ]
  },
  {
   "cell_type": "markdown",
   "id": "optimum-atlantic",
   "metadata": {},
   "source": [
    "## Build and Train the Model"
   ]
  },
  {
   "cell_type": "code",
   "execution_count": 89,
   "id": "fatty-expansion",
   "metadata": {},
   "outputs": [],
   "source": [
    "# Set all constants\n",
    "INIT_LR = 1e-3\n",
    "EPOCHS = 100\n",
    "BS = 16"
   ]
  },
  {
   "cell_type": "code",
   "execution_count": 98,
   "id": "charitable-brighton",
   "metadata": {},
   "outputs": [
    {
     "ename": "TypeError",
     "evalue": "'module' object is not callable",
     "output_type": "error",
     "traceback": [
      "\u001b[0;31m---------------------------------------------------------------------------\u001b[0m",
      "\u001b[0;31mTypeError\u001b[0m                                 Traceback (most recent call last)",
      "\u001b[0;32m<ipython-input-98-e5d3503f5715>\u001b[0m in \u001b[0;36m<module>\u001b[0;34m\u001b[0m\n\u001b[1;32m      1\u001b[0m \u001b[0;31m# Load the resnet network\u001b[0m\u001b[0;34m\u001b[0m\u001b[0;34m\u001b[0m\u001b[0;34m\u001b[0m\u001b[0m\n\u001b[0;32m----> 2\u001b[0;31m baseModel = resnet(weights=\"resnet\", include_top=False,\n\u001b[0m\u001b[1;32m      3\u001b[0m                         input_tensor=Input(shape=(224, 224, 3)))\n",
      "\u001b[0;31mTypeError\u001b[0m: 'module' object is not callable"
     ]
    }
   ],
   "source": [
    "# Load the resnet network\n",
    "baseModel = resnet(weights=\"resnet\", include_top=False,\n",
    "                        input_tensor=Input(shape=(224, 224, 3)))"
   ]
  },
  {
   "cell_type": "code",
   "execution_count": 80,
   "id": "transsexual-rider",
   "metadata": {},
   "outputs": [],
   "source": [
    "# Construct the model head\n",
    "headModel = baseModel.output\n",
    "headModel = AveragePooling2D(pool_size=(4, 4))(headModel)\n",
    "headModel = Flatten(name=\"flatten\")(headModel)\n",
    "headModel = Dense(128, activation=\"relu\")(headModel)\n",
    "headModel = Dropout(0.5)(headModel)\n",
    "headModel = Dense(3, activation=\"softmax\")(headModel)"
   ]
  },
  {
   "cell_type": "code",
   "execution_count": 81,
   "id": "complimentary-rebound",
   "metadata": {},
   "outputs": [],
   "source": [
    "# Fine tune the network with the model we will be training with\n",
    "model = Model(inputs=baseModel.input, outputs=headModel)"
   ]
  },
  {
   "cell_type": "code",
   "execution_count": 82,
   "id": "authentic-pressure",
   "metadata": {},
   "outputs": [],
   "source": [
    "# Freeze all layers in the base model during the first training process\n",
    "for layer in baseModel.layers:\n",
    "    layer.trainable = False"
   ]
  },
  {
   "cell_type": "code",
   "execution_count": 86,
   "id": "growing-brick",
   "metadata": {},
   "outputs": [],
   "source": [
    "# Compile our model\n",
    "opt = Adam(lr=INIT_LR, decay=INIT_LR / EPOCHS)\n",
    "model.compile(loss=\"binary_crossentropy\", optimizer=opt,\n",
    "              metrics=[\"accuracy\"])"
   ]
  },
  {
   "cell_type": "code",
   "execution_count": 90,
   "id": "integral-southwest",
   "metadata": {},
   "outputs": [
    {
     "name": "stdout",
     "output_type": "stream",
     "text": [
      "Epoch 1/100\n",
      "30/30 [==============================] - 1s 41ms/step - loss: 0.4054 - accuracy: 0.6375 - val_loss: 1.8676 - val_accuracy: 0.3306\n",
      "Epoch 2/100\n",
      "30/30 [==============================] - 1s 39ms/step - loss: 0.4156 - accuracy: 0.6478 - val_loss: 1.8878 - val_accuracy: 0.3306\n",
      "Epoch 3/100\n",
      "30/30 [==============================] - 1s 39ms/step - loss: 0.4037 - accuracy: 0.6415 - val_loss: 1.9337 - val_accuracy: 0.3306\n",
      "Epoch 4/100\n",
      "30/30 [==============================] - 1s 39ms/step - loss: 0.4272 - accuracy: 0.5891 - val_loss: 1.9665 - val_accuracy: 0.3306\n",
      "Epoch 5/100\n",
      "30/30 [==============================] - 1s 40ms/step - loss: 0.3967 - accuracy: 0.6352 - val_loss: 1.9854 - val_accuracy: 0.3306\n",
      "Epoch 6/100\n",
      "30/30 [==============================] - 1s 39ms/step - loss: 0.4159 - accuracy: 0.6373 - val_loss: 1.9858 - val_accuracy: 0.3306\n",
      "Epoch 7/100\n",
      "30/30 [==============================] - 1s 39ms/step - loss: 0.4093 - accuracy: 0.6205 - val_loss: 1.9740 - val_accuracy: 0.3306\n",
      "Epoch 8/100\n",
      "30/30 [==============================] - 1s 40ms/step - loss: 0.4012 - accuracy: 0.6289 - val_loss: 2.0256 - val_accuracy: 0.3306\n",
      "Epoch 9/100\n",
      "30/30 [==============================] - 1s 39ms/step - loss: 0.4056 - accuracy: 0.6331 - val_loss: 2.0804 - val_accuracy: 0.3306\n",
      "Epoch 10/100\n",
      "30/30 [==============================] - 1s 39ms/step - loss: 0.4036 - accuracy: 0.6310 - val_loss: 2.1139 - val_accuracy: 0.3306\n",
      "Epoch 11/100\n",
      "30/30 [==============================] - 1s 39ms/step - loss: 0.4085 - accuracy: 0.6352 - val_loss: 2.1187 - val_accuracy: 0.3306\n",
      "Epoch 12/100\n",
      "30/30 [==============================] - 1s 39ms/step - loss: 0.3966 - accuracy: 0.6478 - val_loss: 2.1321 - val_accuracy: 0.3306\n",
      "Epoch 13/100\n",
      "30/30 [==============================] - 1s 40ms/step - loss: 0.4053 - accuracy: 0.6289 - val_loss: 2.1651 - val_accuracy: 0.3306\n",
      "Epoch 14/100\n",
      "30/30 [==============================] - 1s 39ms/step - loss: 0.4115 - accuracy: 0.6184 - val_loss: 2.1961 - val_accuracy: 0.3306\n",
      "Epoch 15/100\n",
      "30/30 [==============================] - 1s 39ms/step - loss: 0.3854 - accuracy: 0.6562 - val_loss: 2.1750 - val_accuracy: 0.3306\n",
      "Epoch 16/100\n",
      "30/30 [==============================] - 1s 40ms/step - loss: 0.3838 - accuracy: 0.6730 - val_loss: 2.2035 - val_accuracy: 0.3306\n",
      "Epoch 17/100\n",
      "30/30 [==============================] - 1s 39ms/step - loss: 0.3765 - accuracy: 0.6667 - val_loss: 2.2537 - val_accuracy: 0.3306\n",
      "Epoch 18/100\n",
      "30/30 [==============================] - 1s 39ms/step - loss: 0.3841 - accuracy: 0.6457 - val_loss: 2.2853 - val_accuracy: 0.3306\n",
      "Epoch 19/100\n",
      "30/30 [==============================] - 1s 39ms/step - loss: 0.4199 - accuracy: 0.5975 - val_loss: 2.3079 - val_accuracy: 0.3306\n",
      "Epoch 20/100\n",
      "30/30 [==============================] - 1s 40ms/step - loss: 0.3861 - accuracy: 0.6478 - val_loss: 2.3016 - val_accuracy: 0.3306\n",
      "Epoch 21/100\n",
      "30/30 [==============================] - 1s 39ms/step - loss: 0.3764 - accuracy: 0.6771 - val_loss: 2.3412 - val_accuracy: 0.3306\n",
      "Epoch 22/100\n",
      "30/30 [==============================] - 1s 39ms/step - loss: 0.3942 - accuracy: 0.6562 - val_loss: 2.3761 - val_accuracy: 0.3306\n",
      "Epoch 23/100\n",
      "30/30 [==============================] - 1s 40ms/step - loss: 0.3939 - accuracy: 0.6164 - val_loss: 2.3873 - val_accuracy: 0.3306\n",
      "Epoch 24/100\n",
      "30/30 [==============================] - 1s 39ms/step - loss: 0.3812 - accuracy: 0.6394 - val_loss: 2.4061 - val_accuracy: 0.3306\n",
      "Epoch 25/100\n",
      "30/30 [==============================] - 1s 39ms/step - loss: 0.3947 - accuracy: 0.6667 - val_loss: 2.4373 - val_accuracy: 0.3306\n",
      "Epoch 26/100\n",
      "30/30 [==============================] - 1s 39ms/step - loss: 0.3975 - accuracy: 0.6331 - val_loss: 2.4538 - val_accuracy: 0.3306\n",
      "Epoch 27/100\n",
      "30/30 [==============================] - 1s 39ms/step - loss: 0.3833 - accuracy: 0.6520 - val_loss: 2.4585 - val_accuracy: 0.3306\n",
      "Epoch 28/100\n",
      "30/30 [==============================] - 1s 39ms/step - loss: 0.3712 - accuracy: 0.6583 - val_loss: 2.4592 - val_accuracy: 0.3306\n",
      "Epoch 29/100\n",
      "30/30 [==============================] - 1s 39ms/step - loss: 0.4065 - accuracy: 0.6080 - val_loss: 2.5077 - val_accuracy: 0.3306\n",
      "Epoch 30/100\n",
      "30/30 [==============================] - 1s 40ms/step - loss: 0.3828 - accuracy: 0.6562 - val_loss: 2.5172 - val_accuracy: 0.3306\n",
      "Epoch 31/100\n",
      "30/30 [==============================] - 1s 40ms/step - loss: 0.3831 - accuracy: 0.6415 - val_loss: 2.5072 - val_accuracy: 0.3306\n",
      "Epoch 32/100\n",
      "30/30 [==============================] - 1s 39ms/step - loss: 0.3811 - accuracy: 0.6333 - val_loss: 2.5764 - val_accuracy: 0.3306\n",
      "Epoch 33/100\n",
      "30/30 [==============================] - 1s 39ms/step - loss: 0.3877 - accuracy: 0.6436 - val_loss: 2.5862 - val_accuracy: 0.3306\n",
      "Epoch 34/100\n",
      "30/30 [==============================] - 1s 39ms/step - loss: 0.3859 - accuracy: 0.6310 - val_loss: 2.5677 - val_accuracy: 0.3306\n",
      "Epoch 35/100\n",
      "30/30 [==============================] - 1s 39ms/step - loss: 0.3740 - accuracy: 0.6583 - val_loss: 2.5789 - val_accuracy: 0.3306\n",
      "Epoch 36/100\n",
      "30/30 [==============================] - 1s 40ms/step - loss: 0.3680 - accuracy: 0.6792 - val_loss: 2.5872 - val_accuracy: 0.3306\n",
      "Epoch 37/100\n",
      "30/30 [==============================] - 1s 39ms/step - loss: 0.3728 - accuracy: 0.6604 - val_loss: 2.6086 - val_accuracy: 0.3306\n",
      "Epoch 38/100\n",
      "30/30 [==============================] - 1s 40ms/step - loss: 0.3774 - accuracy: 0.6583 - val_loss: 2.6471 - val_accuracy: 0.3306\n",
      "Epoch 39/100\n",
      "30/30 [==============================] - 1s 39ms/step - loss: 0.3866 - accuracy: 0.6226 - val_loss: 2.6426 - val_accuracy: 0.3306\n",
      "Epoch 40/100\n",
      "30/30 [==============================] - 1s 39ms/step - loss: 0.3762 - accuracy: 0.6625 - val_loss: 2.6499 - val_accuracy: 0.3306\n",
      "Epoch 41/100\n",
      "30/30 [==============================] - 1s 39ms/step - loss: 0.3761 - accuracy: 0.6499 - val_loss: 2.6854 - val_accuracy: 0.3306\n",
      "Epoch 42/100\n",
      "30/30 [==============================] - 1s 40ms/step - loss: 0.3809 - accuracy: 0.6562 - val_loss: 2.7070 - val_accuracy: 0.3306\n",
      "Epoch 43/100\n",
      "30/30 [==============================] - 1s 39ms/step - loss: 0.3741 - accuracy: 0.6457 - val_loss: 2.7126 - val_accuracy: 0.3306\n",
      "Epoch 44/100\n",
      "30/30 [==============================] - 1s 39ms/step - loss: 0.3608 - accuracy: 0.6499 - val_loss: 2.7283 - val_accuracy: 0.3306\n",
      "Epoch 45/100\n",
      "30/30 [==============================] - 1s 39ms/step - loss: 0.3831 - accuracy: 0.6289 - val_loss: 2.7507 - val_accuracy: 0.3306\n",
      "Epoch 46/100\n",
      "30/30 [==============================] - 1s 39ms/step - loss: 0.3812 - accuracy: 0.6394 - val_loss: 2.7804 - val_accuracy: 0.3306\n",
      "Epoch 47/100\n",
      "30/30 [==============================] - 1s 40ms/step - loss: 0.3728 - accuracy: 0.6646 - val_loss: 2.7974 - val_accuracy: 0.3306\n",
      "Epoch 48/100\n",
      "30/30 [==============================] - 1s 40ms/step - loss: 0.3805 - accuracy: 0.6331 - val_loss: 2.8258 - val_accuracy: 0.3306\n",
      "Epoch 49/100\n",
      "30/30 [==============================] - 1s 39ms/step - loss: 0.3707 - accuracy: 0.6499 - val_loss: 2.8359 - val_accuracy: 0.3306\n",
      "Epoch 50/100\n",
      "30/30 [==============================] - 1s 40ms/step - loss: 0.3750 - accuracy: 0.6331 - val_loss: 2.8473 - val_accuracy: 0.3306\n",
      "Epoch 51/100\n",
      "30/30 [==============================] - 1s 43ms/step - loss: 0.3653 - accuracy: 0.6457 - val_loss: 2.8605 - val_accuracy: 0.3306\n",
      "Epoch 52/100\n",
      "30/30 [==============================] - 1s 39ms/step - loss: 0.3727 - accuracy: 0.6310 - val_loss: 2.8611 - val_accuracy: 0.3306\n",
      "Epoch 53/100\n",
      "30/30 [==============================] - 1s 39ms/step - loss: 0.3685 - accuracy: 0.6373 - val_loss: 2.8780 - val_accuracy: 0.3306\n",
      "Epoch 54/100\n",
      "30/30 [==============================] - 1s 39ms/step - loss: 0.3916 - accuracy: 0.6080 - val_loss: 2.8931 - val_accuracy: 0.3306\n",
      "Epoch 55/100\n",
      "30/30 [==============================] - 1s 39ms/step - loss: 0.3596 - accuracy: 0.6625 - val_loss: 2.8989 - val_accuracy: 0.3306\n",
      "Epoch 56/100\n",
      "30/30 [==============================] - 1s 40ms/step - loss: 0.3961 - accuracy: 0.6143 - val_loss: 2.9174 - val_accuracy: 0.3306\n",
      "Epoch 57/100\n",
      "30/30 [==============================] - 1s 39ms/step - loss: 0.3661 - accuracy: 0.6625 - val_loss: 2.9363 - val_accuracy: 0.3306\n",
      "Epoch 58/100\n"
     ]
    },
    {
     "name": "stdout",
     "output_type": "stream",
     "text": [
      "30/30 [==============================] - 1s 39ms/step - loss: 0.3705 - accuracy: 0.6520 - val_loss: 2.9528 - val_accuracy: 0.3306\n",
      "Epoch 59/100\n",
      "30/30 [==============================] - 1s 39ms/step - loss: 0.3853 - accuracy: 0.6080 - val_loss: 2.9573 - val_accuracy: 0.3306\n",
      "Epoch 60/100\n",
      "30/30 [==============================] - 1s 40ms/step - loss: 0.3687 - accuracy: 0.6436 - val_loss: 3.0067 - val_accuracy: 0.3306\n",
      "Epoch 61/100\n",
      "30/30 [==============================] - 1s 39ms/step - loss: 0.3593 - accuracy: 0.6562 - val_loss: 3.0360 - val_accuracy: 0.3306\n",
      "Epoch 62/100\n",
      "30/30 [==============================] - 1s 39ms/step - loss: 0.3522 - accuracy: 0.6792 - val_loss: 3.0477 - val_accuracy: 0.3306\n",
      "Epoch 63/100\n",
      "30/30 [==============================] - 1s 39ms/step - loss: 0.3669 - accuracy: 0.6354 - val_loss: 3.0723 - val_accuracy: 0.3306\n",
      "Epoch 64/100\n",
      "30/30 [==============================] - 1s 39ms/step - loss: 0.3521 - accuracy: 0.6855 - val_loss: 3.1033 - val_accuracy: 0.3306\n",
      "Epoch 65/100\n",
      "30/30 [==============================] - 1s 39ms/step - loss: 0.3580 - accuracy: 0.6771 - val_loss: 3.1257 - val_accuracy: 0.3306\n",
      "Epoch 66/100\n",
      "30/30 [==============================] - 1s 38ms/step - loss: 0.3740 - accuracy: 0.6415 - val_loss: 3.1213 - val_accuracy: 0.3306\n",
      "Epoch 67/100\n",
      "30/30 [==============================] - 1s 39ms/step - loss: 0.3639 - accuracy: 0.6436 - val_loss: 3.1304 - val_accuracy: 0.3306\n",
      "Epoch 68/100\n",
      "30/30 [==============================] - 1s 39ms/step - loss: 0.3597 - accuracy: 0.6688 - val_loss: 3.1277 - val_accuracy: 0.3306\n",
      "Epoch 69/100\n",
      "30/30 [==============================] - 1s 38ms/step - loss: 0.3513 - accuracy: 0.6625 - val_loss: 3.1767 - val_accuracy: 0.3306\n",
      "Epoch 70/100\n",
      "30/30 [==============================] - 1s 39ms/step - loss: 0.3827 - accuracy: 0.6625 - val_loss: 3.2208 - val_accuracy: 0.3306\n",
      "Epoch 71/100\n",
      "30/30 [==============================] - 1s 39ms/step - loss: 0.3679 - accuracy: 0.6457 - val_loss: 3.2241 - val_accuracy: 0.3306\n",
      "Epoch 72/100\n",
      "30/30 [==============================] - 1s 40ms/step - loss: 0.3703 - accuracy: 0.6457 - val_loss: 3.2515 - val_accuracy: 0.3306\n",
      "Epoch 73/100\n",
      "30/30 [==============================] - 1s 39ms/step - loss: 0.3603 - accuracy: 0.6792 - val_loss: 3.2808 - val_accuracy: 0.3306\n",
      "Epoch 74/100\n",
      "30/30 [==============================] - 1s 40ms/step - loss: 0.3524 - accuracy: 0.6667 - val_loss: 3.2969 - val_accuracy: 0.3306\n",
      "Epoch 75/100\n",
      "30/30 [==============================] - 1s 39ms/step - loss: 0.3669 - accuracy: 0.6499 - val_loss: 3.2975 - val_accuracy: 0.3306\n",
      "Epoch 76/100\n",
      "30/30 [==============================] - 1s 39ms/step - loss: 0.3572 - accuracy: 0.6709 - val_loss: 3.3247 - val_accuracy: 0.3306\n",
      "Epoch 77/100\n",
      "30/30 [==============================] - 1s 40ms/step - loss: 0.3716 - accuracy: 0.6164 - val_loss: 3.3646 - val_accuracy: 0.3306\n",
      "Epoch 78/100\n",
      "30/30 [==============================] - 1s 39ms/step - loss: 0.3761 - accuracy: 0.6226 - val_loss: 3.3618 - val_accuracy: 0.3306\n",
      "Epoch 79/100\n",
      "30/30 [==============================] - 1s 39ms/step - loss: 0.3570 - accuracy: 0.6771 - val_loss: 3.3511 - val_accuracy: 0.3306\n",
      "Epoch 80/100\n",
      "30/30 [==============================] - 1s 40ms/step - loss: 0.3683 - accuracy: 0.6394 - val_loss: 3.3738 - val_accuracy: 0.3306\n",
      "Epoch 81/100\n",
      "30/30 [==============================] - 1s 40ms/step - loss: 0.3611 - accuracy: 0.6751 - val_loss: 3.3904 - val_accuracy: 0.3306\n",
      "Epoch 82/100\n",
      "30/30 [==============================] - 1s 39ms/step - loss: 0.3767 - accuracy: 0.6352 - val_loss: 3.4102 - val_accuracy: 0.3306\n",
      "Epoch 83/100\n",
      "30/30 [==============================] - 1s 40ms/step - loss: 0.3639 - accuracy: 0.6646 - val_loss: 3.4085 - val_accuracy: 0.3306\n",
      "Epoch 84/100\n",
      "30/30 [==============================] - 1s 40ms/step - loss: 0.3607 - accuracy: 0.6625 - val_loss: 3.4277 - val_accuracy: 0.3306\n",
      "Epoch 85/100\n",
      "30/30 [==============================] - 1s 39ms/step - loss: 0.3732 - accuracy: 0.6373 - val_loss: 3.4465 - val_accuracy: 0.3306\n",
      "Epoch 86/100\n",
      "30/30 [==============================] - 1s 40ms/step - loss: 0.3486 - accuracy: 0.6604 - val_loss: 3.4687 - val_accuracy: 0.3306\n",
      "Epoch 87/100\n",
      "30/30 [==============================] - 1s 39ms/step - loss: 0.3537 - accuracy: 0.6813 - val_loss: 3.5079 - val_accuracy: 0.3306\n",
      "Epoch 88/100\n",
      "30/30 [==============================] - 1s 40ms/step - loss: 0.3554 - accuracy: 0.6604 - val_loss: 3.5385 - val_accuracy: 0.3306\n",
      "Epoch 89/100\n",
      "30/30 [==============================] - 1s 40ms/step - loss: 0.3546 - accuracy: 0.6562 - val_loss: 3.5415 - val_accuracy: 0.3306\n",
      "Epoch 90/100\n",
      "30/30 [==============================] - 1s 39ms/step - loss: 0.3766 - accuracy: 0.5996 - val_loss: 3.5330 - val_accuracy: 0.3306\n",
      "Epoch 91/100\n",
      "30/30 [==============================] - 1s 39ms/step - loss: 0.3561 - accuracy: 0.6709 - val_loss: 3.5317 - val_accuracy: 0.3306\n",
      "Epoch 92/100\n",
      "30/30 [==============================] - 1s 40ms/step - loss: 0.3679 - accuracy: 0.6143 - val_loss: 3.4918 - val_accuracy: 0.3306\n",
      "Epoch 93/100\n",
      "30/30 [==============================] - 1s 40ms/step - loss: 0.3690 - accuracy: 0.6478 - val_loss: 3.5011 - val_accuracy: 0.3306\n",
      "Epoch 94/100\n",
      "30/30 [==============================] - 1s 39ms/step - loss: 0.3552 - accuracy: 0.6500 - val_loss: 3.5140 - val_accuracy: 0.3306\n",
      "Epoch 95/100\n",
      "30/30 [==============================] - 1s 39ms/step - loss: 0.3590 - accuracy: 0.6541 - val_loss: 3.5473 - val_accuracy: 0.3306\n",
      "Epoch 96/100\n",
      "30/30 [==============================] - 1s 40ms/step - loss: 0.3684 - accuracy: 0.6394 - val_loss: 3.5477 - val_accuracy: 0.3306\n",
      "Epoch 97/100\n",
      "30/30 [==============================] - 1s 39ms/step - loss: 0.3566 - accuracy: 0.6520 - val_loss: 3.5997 - val_accuracy: 0.3306\n",
      "Epoch 98/100\n",
      "30/30 [==============================] - 1s 39ms/step - loss: 0.3559 - accuracy: 0.6813 - val_loss: 3.5836 - val_accuracy: 0.3306\n",
      "Epoch 99/100\n",
      "30/30 [==============================] - 1s 39ms/step - loss: 0.3671 - accuracy: 0.6310 - val_loss: 3.5816 - val_accuracy: 0.3306\n",
      "Epoch 100/100\n",
      "30/30 [==============================] - 1s 40ms/step - loss: 0.3364 - accuracy: 0.6709 - val_loss: 3.6152 - val_accuracy: 0.3306\n"
     ]
    }
   ],
   "source": [
    "# Train the head of the network\n",
    "H = model.fit(\n",
    "    aug.flow(trainX, trainY, batch_size=BS),\n",
    "    steps_per_epoch=len(trainX) // BS,\n",
    "    validation_data=(testX, testY),\n",
    "    validation_steps=len(testX) // BS,\n",
    "    epochs=EPOCHS)"
   ]
  },
  {
   "cell_type": "code",
   "execution_count": null,
   "id": "senior-transcript",
   "metadata": {},
   "outputs": [],
   "source": []
  }
 ],
 "metadata": {
  "kernelspec": {
   "display_name": "Python 3",
   "language": "python",
   "name": "python3"
  },
  "language_info": {
   "codemirror_mode": {
    "name": "ipython",
    "version": 3
   },
   "file_extension": ".py",
   "mimetype": "text/x-python",
   "name": "python",
   "nbconvert_exporter": "python",
   "pygments_lexer": "ipython3",
   "version": "3.8.6"
  }
 },
 "nbformat": 4,
 "nbformat_minor": 5
}
